{
 "cells": [
  {
   "cell_type": "markdown",
   "metadata": {
    "collapsed": true,
    "pycharm": {
     "name": "#%% md\n"
    }
   },
   "source": [
    "# Rock Paper Scissors : Policy Improvment Using Policy Gradient"
   ]
  },
  {
   "cell_type": "code",
   "execution_count": 1,
   "outputs": [],
   "source": [
    "import numpy as np\n",
    "import random\n",
    "from matplotlib import pyplot as plt\n",
    "\n",
    "from policy import policy_improvement\n",
    "from game import play_tictactoe"
   ],
   "metadata": {
    "collapsed": false,
    "pycharm": {
     "name": "#%%\n"
    }
   }
  },
  {
   "cell_type": "markdown",
   "source": [
    "We start the policy such that all actions are equally probable. We expect to lose as many as we win.\n",
    "\n",
    "$\n",
    "\\theta =\n",
    "\\begin{bmatrix}\n",
    "1 & 1 & 1 \\\\\n",
    "1 & 1 & 1 \\\\\n",
    "1 & 1 & 1 \\\\\n",
    "\\end{bmatrix}\n",
    "$\n",
    "\n",
    "If we know what the opponent is going to play, we can improve the policy and win more games."
   ],
   "metadata": {
    "collapsed": false,
    "pycharm": {
     "name": "#%% md\n"
    }
   }
  },
  {
   "cell_type": "code",
   "execution_count": 2,
   "outputs": [
    {
     "name": "stdout",
     "output_type": "stream",
     "text": [
      "[[0.74036282 2.11404429 0.14559289]\n",
      " [0.14559289 0.74036282 2.11404429]\n",
      " [2.11404429 0.14559289 0.74036282]]\n"
     ]
    }
   ],
   "source": [
    "# The opponent always plays what we think they will play\n",
    "P = np.array([[1, 0, 0], [0, 1, 0], [0, 0, 1]])\n",
    "# Equally think the opponent will draw rock, paper or scissors\n",
    "d = np.array([1 / 3, 1 / 3, 1 / 3, 0, 0, 0])\n",
    "# Equally likely to choose an action of rock, paper or scissors\n",
    "theta = np.array([[1, 1, 1], [1, 1, 1], [1, 1, 1]], dtype=float)\n",
    "\n",
    "itheta = policy_improvement(1.0, 10, theta, P, d)\n",
    "print(itheta)"
   ],
   "metadata": {
    "collapsed": false,
    "pycharm": {
     "name": "#%%\n"
    }
   }
  },
  {
   "cell_type": "code",
   "execution_count": 3,
   "outputs": [
    {
     "name": "stdout",
     "output_type": "stream",
     "text": [
      "6\n",
      "56\n"
     ]
    }
   ],
   "source": [
    "# Play game with new and old policy\n",
    "random.seed(0)\n",
    "reward = play_tictactoe(P, theta, d, 100)\n",
    "print(reward)\n",
    "ireward = play_tictactoe(P, itheta, d, 100)\n",
    "print(ireward)"
   ],
   "metadata": {
    "collapsed": false,
    "pycharm": {
     "name": "#%%\n"
    }
   }
  },
  {
   "cell_type": "markdown",
   "source": [
    "Now with policy improvement, we start with winning 6 more than lost and then improve to 56."
   ],
   "metadata": {
    "collapsed": false,
    "pycharm": {
     "name": "#%% md\n"
    }
   }
  },
  {
   "cell_type": "code",
   "execution_count": 4,
   "outputs": [
    {
     "data": {
      "text/plain": "<Figure size 432x288 with 1 Axes>",
      "image/png": "[encoded data removed]"
     },
     "metadata": {
      "needs_background": "light"
     },
     "output_type": "display_data"
    }
   ],
   "source": [
    "reward_history = []\n",
    "reward_history.append(play_tictactoe(P, theta, d, 100))\n",
    "itheta = policy_improvement(1.0, 1, theta, P, d)\n",
    "reward = play_tictactoe(P, itheta, d, 100)\n",
    "reward_history.append(reward)\n",
    "\n",
    "for i in range(100):\n",
    "    itheta = policy_improvement(1.0, 1, itheta, P, d)\n",
    "    reward = play_tictactoe(P, itheta, d, 100)\n",
    "    reward_history.append(reward)\n",
    "\n",
    "plt.plot(reward_history)\n",
    "plt.show()"
   ],
   "metadata": {
    "collapsed": false,
    "pycharm": {
     "name": "#%%\n"
    }
   }
  },
  {
   "cell_type": "markdown",
   "source": [
    "The above graph shows us improve to close to 100 which is always winning.\n",
    "\n",
    "With enough iteration and large enough value of $\\alpha$, this happens."
   ],
   "metadata": {
    "collapsed": false,
    "pycharm": {
     "name": "#%% md\n"
    }
   }
  },
  {
   "cell_type": "code",
   "execution_count": 5,
   "outputs": [
    {
     "data": {
      "text/plain": "<Figure size 432x288 with 1 Axes>",
      "image/png": "[encoded data removed]"
     },
     "metadata": {
      "needs_background": "light"
     },
     "output_type": "display_data"
    }
   ],
   "source": [
    "reward_history_long = reward_history.copy()\n",
    "\n",
    "for i in range(100):\n",
    "    itheta = policy_improvement(10.0, 10, itheta, P, d)\n",
    "    reward = play_tictactoe(P, itheta, d, 100)\n",
    "    reward_history.append(reward)\n",
    "\n",
    "plt.plot(reward_history)\n",
    "plt.show()"
   ],
   "metadata": {
    "collapsed": false,
    "pycharm": {
     "name": "#%%\n"
    }
   }
  },
  {
   "cell_type": "markdown",
   "source": [
    "Now let us consider the case that we can predict 80% of the time what the player is going to play. So, our transition\n",
    "probability matrix looks like the following\n",
    "\n",
    "$\n",
    "P =\n",
    "\\begin{bmatrix}\n",
    "0.8 & 0.1 & 0.1 \\\\\n",
    "0.1 & 0.8 & 0.1 \\\\\n",
    "0.1 & 0.1 & 0.8 \\\\\n",
    "\\end{bmatrix}\n",
    "$\n",
    "\n",
    "Now, let us apply policy improvement. Out of the 100 games we play, we should win about 80 more than we lose."
   ],
   "metadata": {
    "collapsed": false,
    "pycharm": {
     "name": "#%% md\n"
    }
   }
  },
  {
   "cell_type": "code",
   "execution_count": 6,
   "outputs": [
    {
     "name": "stdout",
     "output_type": "stream",
     "text": [
      "[[0.84967467 1.80639053 0.3439348 ]\n",
      " [0.3439348  0.84967467 1.80639053]\n",
      " [1.80639053 0.3439348  0.84967467]]\n"
     ]
    }
   ],
   "source": [
    "# The opponent always plays what we think they will play\n",
    "P = np.array([[0.8, 0.1, 0.1], [0.1, 0.8, 0.1], [0.1, 0.1, 0.8]])\n",
    "# Equally think the opponent will draw rock, paper or scissors\n",
    "d = np.array([1 / 3, 1 / 3, 1 / 3, 0, 0, 0])\n",
    "# Equally likely to choose an action of rock, paper or scissors\n",
    "theta = np.array([[1, 1, 1], [1, 1, 1], [1, 1, 1]], dtype=float)\n",
    "\n",
    "itheta = policy_improvement(1.0, 10, theta, P, d)\n",
    "print(itheta)"
   ],
   "metadata": {
    "collapsed": false,
    "pycharm": {
     "name": "#%%\n"
    }
   }
  },
  {
   "cell_type": "code",
   "execution_count": 7,
   "outputs": [
    {
     "data": {
      "text/plain": "<Figure size 432x288 with 1 Axes>",
      "image/png": "[encoded data removed]"
     },
     "metadata": {
      "needs_background": "light"
     },
     "output_type": "display_data"
    }
   ],
   "source": [
    "reward_history = []\n",
    "reward_history.append(play_tictactoe(P, theta, d, 100))\n",
    "itheta = policy_improvement(1.0, 1, theta, P, d)\n",
    "reward = play_tictactoe(P, itheta, d, 100)\n",
    "reward_history.append(reward)\n",
    "\n",
    "for i in range(100):\n",
    "    itheta = policy_improvement(1.0, 5, itheta, P, d)\n",
    "    reward = play_tictactoe(P, itheta, d, 100)\n",
    "    reward_history.append(reward)\n",
    "\n",
    "plt.plot(reward_history)\n",
    "plt.show()\n",
    "\n",
    "\n"
   ],
   "metadata": {
    "collapsed": false,
    "pycharm": {
     "name": "#%%\n"
    }
   }
  }
 ],
 "metadata": {
  "kernelspec": {
   "display_name": "Python 3",
   "language": "python",
   "name": "python3"
  },
  "language_info": {
   "codemirror_mode": {
    "name": "ipython",
    "version": 2
   },
   "file_extension": ".py",
   "mimetype": "text/x-python",
   "name": "python",
   "nbconvert_exporter": "python",
   "pygments_lexer": "ipython2",
   "version": "2.7.6"
  }
 },
 "nbformat": 4,
 "nbformat_minor": 0
}